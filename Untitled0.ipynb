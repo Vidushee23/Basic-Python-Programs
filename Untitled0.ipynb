{
  "nbformat": 4,
  "nbformat_minor": 0,
  "metadata": {
    "colab": {
      "provenance": [],
      "authorship_tag": "ABX9TyPugviIJHWtsAokvuohWccx",
      "include_colab_link": true
    },
    "kernelspec": {
      "name": "python3",
      "display_name": "Python 3"
    },
    "language_info": {
      "name": "python"
    }
  },
  "cells": [
    {
      "cell_type": "markdown",
      "metadata": {
        "id": "view-in-github",
        "colab_type": "text"
      },
      "source": [
        "<a href=\"https://colab.research.google.com/github/Vidushee23/Basic-Python-Programs/blob/main/Untitled0.ipynb\" target=\"_parent\"><img src=\"https://colab.research.google.com/assets/colab-badge.svg\" alt=\"Open In Colab\"/></a>"
      ]
    },
    {
      "cell_type": "code",
      "execution_count": null,
      "metadata": {
        "id": "m2WrU8ZkZZNx"
      },
      "outputs": [],
      "source": [
        "def is_valid_indian_phone(number):\n",
        "    # Remove any spaces or hyphens\n",
        "    number = number.replace(' ', '').replace('-', '')\n",
        "\n",
        "    # Check for +91 or 91 prefix and remove if present\n",
        "    if number.startswith('+91'):\n",
        "        number = number[3:]\n",
        "    elif number.startswith('91'):\n",
        "        number = number[2:]\n",
        "\n",
        "    # Check if the number is 10 digits long and starts with 6, 7, 8, or 9\n",
        "    if len(number) == 10 and number[0] in '6789':\n",
        "        return True\n",
        "\n",
        "    return False\n",
        "\n",
        "valid_count = 0\n",
        "\n",
        "for patient in data:\n",
        "    phone = patient['phoneNumber']\n",
        "    is_valid = is_valid_indian_phone(phone)\n",
        "    patient['isValidMobile'] = is_valid\n",
        "    if is_valid:\n",
        "        valid_count += 1\n",
        "\n",
        "print(f\"Number of valid phone numbers: {valid_count}\")\n"
      ]
    },
    {
      "cell_type": "code",
      "source": [],
      "metadata": {
        "id": "xCl63LnwZrJ7"
      },
      "execution_count": null,
      "outputs": []
    }
  ]
}